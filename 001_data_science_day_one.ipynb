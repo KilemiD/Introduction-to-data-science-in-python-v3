{
  "nbformat": 4,
  "nbformat_minor": 0,
  "metadata": {
    "colab": {
      "provenance": [],
      "include_colab_link": true
    },
    "kernelspec": {
      "name": "python3",
      "display_name": "Python 3"
    },
    "language_info": {
      "name": "python"
    }
  },
  "cells": [
    {
      "cell_type": "markdown",
      "metadata": {
        "id": "view-in-github",
        "colab_type": "text"
      },
      "source": [
        "<a href=\"https://colab.research.google.com/github/KilemiD/Introduction-to-data-science-in-python-v3/blob/main/001_data_science_day_one.ipynb\" target=\"_parent\"><img src=\"https://colab.research.google.com/assets/colab-badge.svg\" alt=\"Open In Colab\"/></a>"
      ]
    },
    {
      "cell_type": "markdown",
      "source": [
        "## My first lesson"
      ],
      "metadata": {
        "id": "twwQMzCtW1Jw"
      }
    },
    {
      "cell_type": "markdown",
      "source": [
        "### Displaying the Output"
      ],
      "metadata": {
        "id": "h1POSOc9ZTJO"
      }
    },
    {
      "cell_type": "code",
      "source": [
        "print(\"My first class\")"
      ],
      "metadata": {
        "id": "bqO8vNztWvfj",
        "colab": {
          "base_uri": "https://localhost:8080/"
        },
        "outputId": "20468e8d-5442-406d-87f3-b74f0069d1a7"
      },
      "execution_count": null,
      "outputs": [
        {
          "output_type": "stream",
          "name": "stdout",
          "text": [
            "My first class\n"
          ]
        }
      ]
    },
    {
      "cell_type": "code",
      "source": [
        "# .ipynb #.csv, #.pdf #.json #.xlsx"
      ],
      "metadata": {
        "id": "W02eOJTqaViq"
      },
      "execution_count": null,
      "outputs": []
    },
    {
      "cell_type": "code",
      "source": [
        "# printing displays our output on the console\n",
        "# head, tail, show,\n",
        "\n",
        "print (\"I am an Epic Academy student\")"
      ],
      "metadata": {
        "colab": {
          "base_uri": "https://localhost:8080/"
        },
        "id": "ielGKfGxYh7u",
        "outputId": "2d09720c-b407-4327-aad4-5b244aa07d86"
      },
      "execution_count": null,
      "outputs": [
        {
          "output_type": "stream",
          "name": "stdout",
          "text": [
            "I am an Epic Academy student\n"
          ]
        }
      ]
    },
    {
      "cell_type": "code",
      "source": [
        "# print out the sum of 44 and 34\n",
        "#\n",
        "\n",
        "print (44 + 34)"
      ],
      "metadata": {
        "colab": {
          "base_uri": "https://localhost:8080/"
        },
        "id": "tFeCrZwqZBJQ",
        "outputId": "69a37444-b839-4260-d261-644fdec7b62e"
      },
      "execution_count": null,
      "outputs": [
        {
          "output_type": "stream",
          "name": "stdout",
          "text": [
            "78\n"
          ]
        }
      ]
    },
    {
      "cell_type": "markdown",
      "source": [
        "### Commenting"
      ],
      "metadata": {
        "id": "gu8l9jK2ZW5n"
      }
    },
    {
      "cell_type": "code",
      "source": [
        "# Example\n",
        "# we use comments to explain what lines of code\n",
        "\n",
        "# the code line below outputs a statement of my love for python\n",
        "print(\"I already love Python\")"
      ],
      "metadata": {
        "colab": {
          "base_uri": "https://localhost:8080/"
        },
        "id": "Zi_2oBckZZgP",
        "outputId": "4f7d3123-471a-48ba-9743-095e360b6220"
      },
      "execution_count": null,
      "outputs": [
        {
          "output_type": "stream",
          "name": "stdout",
          "text": [
            "I already love Python\n"
          ]
        }
      ]
    },
    {
      "cell_type": "code",
      "source": [
        "# this code prints a statement about my country\n",
        "\n",
        "print(\"My home is Kenya, all wild and wonderful\")"
      ],
      "metadata": {
        "colab": {
          "base_uri": "https://localhost:8080/"
        },
        "id": "Hm0aPTIeafyx",
        "outputId": "1a536fa6-a00a-40ca-a3d9-fba83a574202"
      },
      "execution_count": null,
      "outputs": [
        {
          "output_type": "stream",
          "name": "stdout",
          "text": [
            "My home is Kenya, all wild and wonderful\n"
          ]
        }
      ]
    },
    {
      "cell_type": "code",
      "source": [
        "# multiline comments\n",
        "# the following line of code prints out\n",
        "# 'I have began my Data Science journey' in the console\n",
        "\n",
        "print(\"I have began my Data Science journey\")"
      ],
      "metadata": {
        "colab": {
          "base_uri": "https://localhost:8080/"
        },
        "id": "KK6DZPtFavFX",
        "outputId": "d96e7543-ad70-485e-f6f6-3bf9a0a3e41d"
      },
      "execution_count": null,
      "outputs": [
        {
          "output_type": "stream",
          "name": "stdout",
          "text": [
            "I have began my Data Science journey\n"
          ]
        }
      ]
    },
    {
      "cell_type": "code",
      "source": [
        "# Challenge\n",
        "# Add comments to the program\n",
        "\n",
        "# defining a as hello ron\n",
        "a = \"Hello Ron\"\n",
        "\n",
        "# getting the output of a\n",
        "print(a)"
      ],
      "metadata": {
        "colab": {
          "base_uri": "https://localhost:8080/"
        },
        "id": "OWrCPTaSbaU_",
        "outputId": "b8353673-5555-40b2-ad70-2fddbab239f8"
      },
      "execution_count": null,
      "outputs": [
        {
          "output_type": "stream",
          "name": "stdout",
          "text": [
            "Hello Ron\n"
          ]
        }
      ]
    },
    {
      "cell_type": "markdown",
      "source": [
        "### Variables"
      ],
      "metadata": {
        "id": "9rYJ5cPlce6P"
      }
    },
    {
      "cell_type": "code",
      "source": [
        "# a variable is a container that stores a value\n",
        "# values in python can be numbers, can a piece of text, character, boolean\n",
        "\n",
        "a = 10 # numbers\n",
        "b = \"I am Epic\" # a string\n",
        "c = \"A\" # a character\n",
        "d = False # a boolean value\n",
        "\n",
        "# displaying or calling our variables\n",
        "print(a)\n",
        "print(b)\n",
        "print(c)\n",
        "print(d)"
      ],
      "metadata": {
        "colab": {
          "base_uri": "https://localhost:8080/"
        },
        "id": "VIXkaBWgci4i",
        "outputId": "4f809f76-5521-44f5-c8f6-ad79b1f7f117"
      },
      "execution_count": null,
      "outputs": [
        {
          "output_type": "stream",
          "name": "stdout",
          "text": [
            "10\n",
            "I am Epic\n",
            "A\n",
            "False\n"
          ]
        }
      ]
    },
    {
      "cell_type": "code",
      "source": [
        "# Challenge\n",
        "# create a savings variable with value 1000 and print it\n",
        "\n",
        "# creating a savings variable\n",
        "savings = 1000\n",
        "\n",
        "# displaying the savings variable\n",
        "print(savings)"
      ],
      "metadata": {
        "colab": {
          "base_uri": "https://localhost:8080/"
        },
        "id": "W7kk9dYZduc6",
        "outputId": "2f594a32-83f0-4932-ce4f-b687c70bd627"
      },
      "execution_count": null,
      "outputs": [
        {
          "output_type": "stream",
          "name": "stdout",
          "text": [
            "1000\n"
          ]
        }
      ]
    },
    {
      "cell_type": "code",
      "source": [
        "# fix the following code and run it\n",
        "\n",
        "quote_3 = \"Einstein\"\n",
        "print(quote_3)"
      ],
      "metadata": {
        "colab": {
          "base_uri": "https://localhost:8080/"
        },
        "id": "ye2mfQS1eqlF",
        "outputId": "4a1e9bdc-6dcc-4119-a971-78e6929d1a3c"
      },
      "execution_count": null,
      "outputs": [
        {
          "output_type": "stream",
          "name": "stdout",
          "text": [
            "Einstein\n"
          ]
        }
      ]
    },
    {
      "cell_type": "code",
      "source": [
        "second_number = 400\n",
        "print(second_number)"
      ],
      "metadata": {
        "colab": {
          "base_uri": "https://localhost:8080/"
        },
        "id": "YADXsRLqfchf",
        "outputId": "8c5d94ec-34e9-423c-f1ad-a7b5bf1df966"
      },
      "execution_count": null,
      "outputs": [
        {
          "output_type": "stream",
          "name": "stdout",
          "text": [
            "400\n"
          ]
        }
      ]
    },
    {
      "cell_type": "markdown",
      "source": [
        "### Operators"
      ],
      "metadata": {
        "id": "2hrn-18Mfqlk"
      }
    },
    {
      "cell_type": "code",
      "source": [
        "# operators help in performing arithmetic, string operations and other operations\n",
        "\n",
        "a = 40\n",
        "b = 70\n",
        "\n",
        "print (a + b)\n",
        "print (a * b)\n",
        "print (a - b)\n",
        "print (a / b)"
      ],
      "metadata": {
        "colab": {
          "base_uri": "https://localhost:8080/"
        },
        "id": "Gq3ONt73fwVM",
        "outputId": "c123d73b-b690-4a13-b7e8-8ce15ecd0a5d"
      },
      "execution_count": null,
      "outputs": [
        {
          "output_type": "stream",
          "name": "stdout",
          "text": [
            "110\n",
            "2800\n",
            "-30\n",
            "0.5714285714285714\n"
          ]
        }
      ]
    },
    {
      "cell_type": "code",
      "source": [
        "# what would happen if we assigned the value of a+b to a\n",
        "\n",
        "a = a + b\n",
        "\n",
        "print(a)"
      ],
      "metadata": {
        "colab": {
          "base_uri": "https://localhost:8080/"
        },
        "id": "zBKc6HYVgf4H",
        "outputId": "d50d9f12-a85a-470e-f59c-4dd61bc9c32d"
      },
      "execution_count": null,
      "outputs": [
        {
          "output_type": "stream",
          "name": "stdout",
          "text": [
            "180\n"
          ]
        }
      ]
    },
    {
      "cell_type": "code",
      "source": [
        "# increment operator +=\n",
        "\n",
        "a += b\n",
        "\n",
        "print(a)"
      ],
      "metadata": {
        "colab": {
          "base_uri": "https://localhost:8080/"
        },
        "id": "9sNz8mGohD5x",
        "outputId": "cd6fbddd-49cb-4166-c976-575e3bc6f22c"
      },
      "execution_count": null,
      "outputs": [
        {
          "output_type": "stream",
          "name": "stdout",
          "text": [
            "880\n"
          ]
        }
      ]
    },
    {
      "cell_type": "code",
      "source": [
        "# decrement operator -=\n",
        "\n",
        "x = 10\n",
        "y = 1"
      ],
      "metadata": {
        "colab": {
          "base_uri": "https://localhost:8080/"
        },
        "id": "Gfcj_Bkkhnyc",
        "outputId": "1e295835-797f-434e-de14-aab524a9bde3"
      },
      "execution_count": null,
      "outputs": [
        {
          "output_type": "stream",
          "name": "stdout",
          "text": [
            "9\n"
          ]
        }
      ]
    },
    {
      "cell_type": "code",
      "source": [
        "x -= y\n",
        "\n",
        "print (x)"
      ],
      "metadata": {
        "colab": {
          "base_uri": "https://localhost:8080/"
        },
        "id": "QAP43xdSiVhd",
        "outputId": "8adfeb87-a1bc-4082-e70a-7347c1ed5162"
      },
      "execution_count": null,
      "outputs": [
        {
          "output_type": "stream",
          "name": "stdout",
          "text": [
            "6\n"
          ]
        }
      ]
    },
    {
      "cell_type": "code",
      "source": [
        "# exponent, modulo\n",
        "\n",
        "print (4 ** 5)\n",
        "print (10 % 3)"
      ],
      "metadata": {
        "colab": {
          "base_uri": "https://localhost:8080/"
        },
        "id": "Sub_2AEPieEF",
        "outputId": "1ab660eb-d873-4b03-dea1-c699bb01b676"
      },
      "execution_count": null,
      "outputs": [
        {
          "output_type": "stream",
          "name": "stdout",
          "text": [
            "1024\n",
            "1\n"
          ]
        }
      ]
    },
    {
      "cell_type": "code",
      "source": [
        "# Challenge\n",
        "# three persons have 3 notes of K 50, K 100, ad K 500\n",
        "# create 3 variables person 1, person 2 and person 3\n",
        "# find out the average of their money and display it\n",
        "\n"
      ],
      "metadata": {
        "id": "soTkCXaojBFb"
      },
      "execution_count": null,
      "outputs": []
    },
    {
      "cell_type": "code",
      "source": [
        "# Challenge\n",
        "# An online shop sells designer jeans and t-shirts.\n",
        "# Each jeans costs Ksh. 4500 and t-shirt costs Ksh. 2500.\n",
        "# Calculate the cost below if you were to buy 3 pairs of jeans and 6 t-shirts\n",
        "# using variables and operators.\n",
        "#\n",
        "\n",
        "print (\"Ksh \", 28500)"
      ],
      "metadata": {
        "id": "RRddaNyGjo5n",
        "colab": {
          "base_uri": "https://localhost:8080/"
        },
        "outputId": "e62ad7bf-ba5e-491b-f9c4-9177356d5873"
      },
      "execution_count": null,
      "outputs": [
        {
          "output_type": "stream",
          "name": "stdout",
          "text": [
            "Ksh  28500\n"
          ]
        }
      ]
    },
    {
      "cell_type": "code",
      "source": [
        "# Challenge\n",
        "# We have Ksh 1000, which you invest with a 10% return each year.\n",
        "# After one year, it's 1000 × 1.1 = 1100 shillings, and after two years\n",
        "# it's 1000 × 1.1 × 1.1 = 121.\n",
        "# Now, write code below to calculate how much money\n",
        "# you would end up with after 7 years.\n",
        "# How much is your Ksh. 1000 worth after 15 years?\n",
        "# ----------\n",
        "# Hint: Instead of calculating with the actual values, you can use variables instead.\n",
        "# The savings variable you've created in the previous exercise represents the Ksh 1000 you started with.\n",
        "# It's up to you to create a new variable to represent 1.1 and then redo the calculations!\n",
        "# ----------\n",
        "\n",
        "# We can recreate the savings variable that we will use below\n",
        "#\n",
        "savings = 1000\n",
        "\n",
        "# and create a growth_multiplier variable that is equal to 1.1.\n",
        "OUR CODE GOES HERE\n",
        "\n",
        "# Then create a result variable and equal it to the amount of money you saved after 7 years.\n",
        "\n",
        "# Then print out the value of result below"
      ],
      "metadata": {
        "id": "Y9mvq4AImrEJ"
      },
      "execution_count": null,
      "outputs": []
    },
    {
      "cell_type": "markdown",
      "source": [
        "### Inputs\n"
      ],
      "metadata": {
        "id": "AtWa512Xjcgs"
      }
    },
    {
      "cell_type": "code",
      "source": [
        "# Example\n",
        "# the input () function allows for user input\n",
        "\n",
        "g = input(\"Enter you name:\")\n",
        "print (\"Hi\", g)"
      ],
      "metadata": {
        "colab": {
          "base_uri": "https://localhost:8080/"
        },
        "id": "mp2e04OYjgkS",
        "outputId": "73fdc038-540e-45b9-b566-72399a627977"
      },
      "execution_count": null,
      "outputs": [
        {
          "output_type": "stream",
          "name": "stdout",
          "text": [
            "Enter you name:Kilemi\n",
            "Hi  Kilemi\n"
          ]
        }
      ]
    },
    {
      "cell_type": "code",
      "source": [
        "# Example\n",
        "# sum two numbers from some user input\n",
        "\n",
        "x = input(\"Enter the first number: \")\n",
        "y = input(\"Enter the second number: \")\n",
        "\n",
        "print (int(x) + int(y))"
      ],
      "metadata": {
        "colab": {
          "base_uri": "https://localhost:8080/"
        },
        "id": "R7yNkYyPj_In",
        "outputId": "49359c41-0073-40a8-ddf1-b5d0f26a0ac5"
      },
      "execution_count": null,
      "outputs": [
        {
          "output_type": "stream",
          "name": "stdout",
          "text": [
            "Enter the first number: 40\n",
            "Enter the second number: 50\n",
            "90\n"
          ]
        }
      ]
    },
    {
      "cell_type": "code",
      "source": [
        "# Example\n",
        "# let's get the name and age of the user\n",
        "\n",
        "# ask the user for their name\n",
        "name = input(\"What's your name? \")\n",
        "print (\"Nice to meet you \" + name + \"!\")\n",
        "\n",
        "# ask for the user for their age\n",
        "age = input(\"Your age?\")\n",
        "\n",
        "print (\"Hey \" + name + \" so you're already \" + str(age) + \" years old!\")"
      ],
      "metadata": {
        "colab": {
          "base_uri": "https://localhost:8080/"
        },
        "id": "fWZjqk5Kl5Tc",
        "outputId": "244596ff-8798-4bd6-8c93-fbb7ec5c90a0"
      },
      "execution_count": null,
      "outputs": [
        {
          "output_type": "stream",
          "name": "stdout",
          "text": [
            "What's your name? Epic\n",
            "Nice to meet you Epic!\n",
            "Your age?5.6666667\n",
            "Hey Epic so you're already 5.6666667 years old!\n"
          ]
        }
      ]
    },
    {
      "cell_type": "code",
      "source": [
        "# Challenge\n",
        "# Many people around the world think about their height in feet and inches\n",
        "# even here in Africa where many countries use the metric system.\n",
        "# Write a program reads the height in metres then converts it to\n",
        "# feet and inches. The program should display the equivalent\n",
        "# height in feet and inches.\n",
        "# NB: You can look up the necessary conversion factors on the web.\n",
        "#\n",
        "\n",
        "# OUR CODE GOES HERE\n",
        "\n",
        "#height_metres = input(\"Enter your height in metres: \")\n",
        "#height_metres = float(height_metres)"
      ],
      "metadata": {
        "id": "yNUrXAJaoppZ"
      },
      "execution_count": null,
      "outputs": []
    },
    {
      "cell_type": "code",
      "source": [
        "# Challenge\n",
        "# Given a certain column of data that has radius, a data scientist would like\n",
        "# to compute the volume the respective cylinder and save the result to a new column.\n",
        "# Thus, write a program that reads the radius of cylinder, along with its height\n",
        "# from the user to calculate the volume in the console.\n",
        "#\n",
        "#OUR CODE GOES HERE\n",
        "#Volume = pi*r**2*h"
      ],
      "metadata": {
        "id": "kAalARtIovqk"
      },
      "execution_count": null,
      "outputs": []
    },
    {
      "cell_type": "code",
      "source": [
        "# Challenge\n",
        "# While paying for her parking fee of Ksh. 50 , Jane inserts a Note into\n",
        "# the paying machine and gets back her change.\n",
        "# Write a program that reads as input the note greater than Ksh. 200\n",
        "# and returns change in notes of 100 and 50.\n",
        "# Use the knowledge of variables to printing, comments, operators\n",
        "# and input to print the no of denominations given\n",
        "#\n",
        "#OUR CODE GOES HERE"
      ],
      "metadata": {
        "id": "GpencEmHowAY"
      },
      "execution_count": null,
      "outputs": []
    },
    {
      "cell_type": "markdown",
      "source": [
        "### Data Types"
      ],
      "metadata": {
        "id": "OzeBL3uUpKAv"
      }
    },
    {
      "cell_type": "code",
      "source": [
        "# Example\n",
        "# Integer data type\n",
        "\n",
        "50\n",
        "\n",
        "# float data type\n",
        "3.142\n",
        "\n",
        "# string data type\n",
        "\"Epic Data Science\"\n",
        "\n",
        "# boolean\n",
        "False"
      ],
      "metadata": {
        "colab": {
          "base_uri": "https://localhost:8080/"
        },
        "id": "pugoycD1pNTm",
        "outputId": "ab434df9-35c3-47db-ad03-71458a91354f"
      },
      "execution_count": null,
      "outputs": [
        {
          "output_type": "execute_result",
          "data": {
            "text/plain": [
              "False"
            ]
          },
          "metadata": {},
          "execution_count": 10
        }
      ]
    },
    {
      "cell_type": "code",
      "source": [
        "# Example\n",
        "\n",
        "print (int(50))\n",
        "print (float(3.142))\n",
        "print (str(\"Epic Data Science\"))\n",
        "print (bool(False))"
      ],
      "metadata": {
        "colab": {
          "base_uri": "https://localhost:8080/"
        },
        "id": "fnUDql8Vp1Iq",
        "outputId": "3ac6c2ef-0e52-431f-ec7d-d636a88571a9"
      },
      "execution_count": null,
      "outputs": [
        {
          "output_type": "stream",
          "name": "stdout",
          "text": [
            "50\n",
            "3.142\n",
            "Epic Data Science\n",
            "False\n"
          ]
        }
      ]
    },
    {
      "cell_type": "code",
      "source": [
        "# Example\n",
        "\n",
        "print(int (3.142))\n",
        "print(float (50))"
      ],
      "metadata": {
        "colab": {
          "base_uri": "https://localhost:8080/"
        },
        "id": "oXNbe2GcqHWE",
        "outputId": "86f6b704-235e-4aa7-f1e8-e7310d5e838c"
      },
      "execution_count": null,
      "outputs": [
        {
          "output_type": "stream",
          "name": "stdout",
          "text": [
            "3\n",
            "50.0\n"
          ]
        }
      ]
    },
    {
      "cell_type": "code",
      "source": [
        "# Example\n",
        "# check out the type of 55\n",
        "\n",
        "type(55)"
      ],
      "metadata": {
        "colab": {
          "base_uri": "https://localhost:8080/"
        },
        "id": "zyBTupCQqkg7",
        "outputId": "b7014c08-1f1c-45ac-c763-8d4605f0b075"
      },
      "execution_count": null,
      "outputs": [
        {
          "output_type": "execute_result",
          "data": {
            "text/plain": [
              "int"
            ]
          },
          "metadata": {},
          "execution_count": 13
        }
      ]
    },
    {
      "cell_type": "code",
      "source": [
        "# Example\n",
        "\n",
        "type(\"The earth is flat\")"
      ],
      "metadata": {
        "colab": {
          "base_uri": "https://localhost:8080/"
        },
        "id": "k_DPqknXq8Tn",
        "outputId": "9b6108d2-361d-438e-f28b-291f12e2978f"
      },
      "execution_count": null,
      "outputs": [
        {
          "output_type": "execute_result",
          "data": {
            "text/plain": [
              "str"
            ]
          },
          "metadata": {},
          "execution_count": 14
        }
      ]
    },
    {
      "cell_type": "code",
      "source": [
        "# Example\n",
        "\n",
        "type(7 // 2)"
      ],
      "metadata": {
        "colab": {
          "base_uri": "https://localhost:8080/"
        },
        "id": "Tasve_4-rJ0q",
        "outputId": "9ad0fd59-3adc-4972-ff36-9dfafd903e18"
      },
      "execution_count": null,
      "outputs": [
        {
          "output_type": "execute_result",
          "data": {
            "text/plain": [
              "3"
            ]
          },
          "metadata": {},
          "execution_count": 19
        }
      ]
    },
    {
      "cell_type": "code",
      "source": [
        "# Example\n",
        "\n",
        "type (3.2) == int"
      ],
      "metadata": {
        "colab": {
          "base_uri": "https://localhost:8080/"
        },
        "id": "ChQwltyyr6e-",
        "outputId": "bf1b9669-f343-4831-9f8f-cffdd636e5f0"
      },
      "execution_count": null,
      "outputs": [
        {
          "output_type": "execute_result",
          "data": {
            "text/plain": [
              "False"
            ]
          },
          "metadata": {},
          "execution_count": 21
        }
      ]
    },
    {
      "cell_type": "code",
      "source": [
        "# Example\n",
        "\n",
        "type (-355)"
      ],
      "metadata": {
        "colab": {
          "base_uri": "https://localhost:8080/"
        },
        "id": "AQ75HwRcsihr",
        "outputId": "985702b7-9e30-4829-da70-5749f6dd179b"
      },
      "execution_count": null,
      "outputs": [
        {
          "output_type": "execute_result",
          "data": {
            "text/plain": [
              "int"
            ]
          },
          "metadata": {},
          "execution_count": 22
        }
      ]
    },
    {
      "cell_type": "code",
      "source": [
        "type (0)"
      ],
      "metadata": {
        "colab": {
          "base_uri": "https://localhost:8080/"
        },
        "id": "zpSjFTcbsqxo",
        "outputId": "39184354-7f76-4496-d054-876a7b2413bb"
      },
      "execution_count": null,
      "outputs": [
        {
          "output_type": "execute_result",
          "data": {
            "text/plain": [
              "int"
            ]
          },
          "metadata": {},
          "execution_count": 24
        }
      ]
    },
    {
      "cell_type": "code",
      "source": [
        "False"
      ],
      "metadata": {
        "colab": {
          "base_uri": "https://localhost:8080/"
        },
        "id": "rz8H3MIBs0Om",
        "outputId": "d4fb7497-c473-4250-e56b-c5ead08ce08a"
      },
      "execution_count": null,
      "outputs": [
        {
          "output_type": "execute_result",
          "data": {
            "text/plain": [
              "False"
            ]
          },
          "metadata": {},
          "execution_count": 25
        }
      ]
    },
    {
      "cell_type": "code",
      "source": [
        "type (False)"
      ],
      "metadata": {
        "colab": {
          "base_uri": "https://localhost:8080/"
        },
        "id": "vsR6MeLXs34v",
        "outputId": "d78dfae0-6cee-4e33-af1a-2fb1089f427c"
      },
      "execution_count": null,
      "outputs": [
        {
          "output_type": "execute_result",
          "data": {
            "text/plain": [
              "bool"
            ]
          },
          "metadata": {},
          "execution_count": 26
        }
      ]
    },
    {
      "cell_type": "code",
      "source": [
        "# conversion of data types from one type to another\n",
        "# casting floats into integers may lead to loss of information\n",
        "\n",
        "int(1.9)"
      ],
      "metadata": {
        "colab": {
          "base_uri": "https://localhost:8080/"
        },
        "id": "be6Ea9extEMP",
        "outputId": "0c0987c3-b18f-4936-9d89-be0b55228ae0"
      },
      "execution_count": null,
      "outputs": [
        {
          "output_type": "execute_result",
          "data": {
            "text/plain": [
              "1"
            ]
          },
          "metadata": {},
          "execution_count": 28
        }
      ]
    },
    {
      "cell_type": "code",
      "source": [
        "# Example\n",
        "\n",
        "print (1 ** 10)\n",
        "print(1.1 ** 10)\n",
        "print (1.5 ** 10)\n",
        "print (1.9 ** 10)"
      ],
      "metadata": {
        "colab": {
          "base_uri": "https://localhost:8080/"
        },
        "id": "etW8hPETtk8L",
        "outputId": "7df6b05f-1c78-4a06-d40b-8b2fe06fc38e"
      },
      "execution_count": null,
      "outputs": [
        {
          "output_type": "stream",
          "name": "stdout",
          "text": [
            "1\n",
            "2.5937424601000023\n",
            "57.6650390625\n",
            "613.1066257800998\n"
          ]
        }
      ]
    },
    {
      "cell_type": "code",
      "source": [
        "# Example\n",
        "# convert a string into an integer\n",
        "\n",
        "int(\"2\")"
      ],
      "metadata": {
        "colab": {
          "base_uri": "https://localhost:8080/"
        },
        "id": "BogcLXvpF7Kt",
        "outputId": "a2dd3adf-c7c0-4972-e61e-d21b2baaad35"
      },
      "execution_count": null,
      "outputs": [
        {
          "output_type": "execute_result",
          "data": {
            "text/plain": [
              "2"
            ]
          },
          "metadata": {},
          "execution_count": 30
        }
      ]
    },
    {
      "cell_type": "code",
      "source": [
        "# example\n",
        "# converting a string that is not a perfect match\n",
        "# regex # concatenate # str.replace\n",
        "\n",
        "x = \"1 or 3 people\"\n",
        "\n",
        "y = str.replace(x, x, \"1\")\n",
        "print(y)"
      ],
      "metadata": {
        "colab": {
          "base_uri": "https://localhost:8080/"
        },
        "id": "naqO_gR3GGOA",
        "outputId": "5c25c517-229d-4f33-88d3-2095e515801a"
      },
      "execution_count": null,
      "outputs": [
        {
          "output_type": "stream",
          "name": "stdout",
          "text": [
            "1\n"
          ]
        }
      ]
    },
    {
      "cell_type": "code",
      "source": [
        "# Example\n",
        "# converting a number to a string\n",
        "\n",
        "str(1)"
      ],
      "metadata": {
        "colab": {
          "base_uri": "https://localhost:8080/",
          "height": 35
        },
        "id": "Xa-IXmuqHNAt",
        "outputId": "b9b91e4f-494c-4e7a-8aa0-edaa2dda7081"
      },
      "execution_count": null,
      "outputs": [
        {
          "output_type": "execute_result",
          "data": {
            "text/plain": [
              "'1'"
            ],
            "application/vnd.google.colaboratory.intrinsic+json": {
              "type": "string"
            }
          },
          "metadata": {},
          "execution_count": 47
        }
      ]
    },
    {
      "cell_type": "code",
      "source": [
        "# Example\n",
        "# converting a boolean value to an integer\n",
        "\n",
        "int (False)"
      ],
      "metadata": {
        "colab": {
          "base_uri": "https://localhost:8080/"
        },
        "id": "6nH9piyOINH7",
        "outputId": "b2ef7c42-7395-4082-cd98-62acb66cbd7e"
      },
      "execution_count": null,
      "outputs": [
        {
          "output_type": "execute_result",
          "data": {
            "text/plain": [
              "0"
            ]
          },
          "metadata": {},
          "execution_count": 49
        }
      ]
    },
    {
      "cell_type": "code",
      "source": [
        "# Example\n",
        "\n",
        "bool (10)"
      ],
      "metadata": {
        "colab": {
          "base_uri": "https://localhost:8080/"
        },
        "id": "GiHBUhPXI82_",
        "outputId": "b8e696bc-04d2-4c7d-9fe0-21afe749ecf1"
      },
      "execution_count": null,
      "outputs": [
        {
          "output_type": "execute_result",
          "data": {
            "text/plain": [
              "True"
            ]
          },
          "metadata": {},
          "execution_count": 53
        }
      ]
    },
    {
      "cell_type": "markdown",
      "source": [
        "### Conditional (if) Statements"
      ],
      "metadata": {
        "id": "AMv0G6k6JvGW"
      }
    },
    {
      "cell_type": "code",
      "source": [
        "# Example\n",
        "# we write the if statement by using if\n",
        "\n",
        "x = 200\n",
        "y = 450\n",
        "\n",
        "if y>x:\n",
        "  print (\"y is greater than x\")"
      ],
      "metadata": {
        "colab": {
          "base_uri": "https://localhost:8080/"
        },
        "id": "i1BsXFoaJ2Ba",
        "outputId": "ec255c2e-a6a7-43bd-dac8-abad473f87f8"
      },
      "execution_count": null,
      "outputs": [
        {
          "output_type": "stream",
          "name": "stdout",
          "text": [
            "y is greater than x\n"
          ]
        }
      ]
    },
    {
      "cell_type": "code",
      "source": [
        "# Example\n",
        "# asking the user for input\n",
        "\n",
        "x = int(input(\"Enter the value for x: \"))\n",
        "y = int(input(\"Enter the value for y:\"))\n",
        "\n",
        "if y <x:\n",
        "  print (\"y is less than x\")"
      ],
      "metadata": {
        "colab": {
          "base_uri": "https://localhost:8080/"
        },
        "id": "7tuQwwQPKi96",
        "outputId": "f9315d8d-3100-4249-b734-dafb3fc5ce2d"
      },
      "execution_count": null,
      "outputs": [
        {
          "output_type": "stream",
          "name": "stdout",
          "text": [
            "Enter the value for x: 20\n",
            "Enter the value for y:15\n",
            "y is less than x\n"
          ]
        }
      ]
    },
    {
      "cell_type": "code",
      "source": [
        "# Example\n",
        "\n",
        "x =1\n",
        "y =8\n",
        "\n",
        "if x  < y:\n",
        "  print (\"Yes, I knew it!\")"
      ],
      "metadata": {
        "colab": {
          "base_uri": "https://localhost:8080/"
        },
        "id": "6ydESJzXLiAd",
        "outputId": "0480a357-1721-4490-8be5-ca659d39ec06"
      },
      "execution_count": null,
      "outputs": [
        {
          "output_type": "stream",
          "name": "stdout",
          "text": [
            "Yes, I knew it!\n"
          ]
        }
      ]
    },
    {
      "cell_type": "code",
      "source": [
        "# Challenge\n",
        "# In our first challenge, we will find out if y is less than 7\n",
        "# If so, we will print out yes.\n",
        "#\n",
        "\n",
        "# We first declare and assign 1 to variable x and 7 to variable y\n",
        "x = 1\n",
        "y = 7\n",
        "\n",
        "OUR CODE GOES HERE"
      ],
      "metadata": {
        "id": "qQC2hXcBLxIS"
      },
      "execution_count": null,
      "outputs": []
    },
    {
      "cell_type": "code",
      "source": [
        "# Challenge\n",
        "# Let's find out if x == true. If so, we will print out yes.\n",
        "# We won't need to declare any variable in this challenge because we have declared above.\n",
        "#\n",
        "\n",
        "OUR CODE GOES HERE"
      ],
      "metadata": {
        "id": "MmLMufLBL1B_"
      },
      "execution_count": null,
      "outputs": []
    },
    {
      "cell_type": "markdown",
      "source": [
        "### elif"
      ],
      "metadata": {
        "id": "el6NnjaSL5un"
      }
    },
    {
      "cell_type": "code",
      "source": [
        "# Example\n",
        "# elif tries another condition when the first one is not met\n",
        "# especially if the first condition was not true\n",
        "\n",
        "x = 33\n",
        "y = 34\n",
        "\n",
        "if y <x:\n",
        "  print (\"Yes\")\n",
        "elif x == y:\n",
        "  print (\"They are equal\")\n",
        "elif y>x:\n",
        "  print(\"y is greater than x\")"
      ],
      "metadata": {
        "colab": {
          "base_uri": "https://localhost:8080/"
        },
        "id": "VVmndiDWL5CT",
        "outputId": "2af2d04f-5dad-4891-d6bd-10b53b220619"
      },
      "execution_count": null,
      "outputs": [
        {
          "output_type": "stream",
          "name": "stdout",
          "text": [
            "y is greater than x\n"
          ]
        }
      ]
    },
    {
      "cell_type": "code",
      "source": [
        "# Example\n",
        "\n",
        "choice = \"d\"\n",
        "\n",
        "if choice == \"a\":\n",
        "  print (\"Your choice is 'a'.\")\n",
        "elif choice == \"b\":\n",
        "  print (\"Your choice is 'b'.\")\n",
        "elif choice == \"c\":\n",
        "  print (\"Your choice is 'c'.\")"
      ],
      "metadata": {
        "id": "A_KQEYL0M7rc"
      },
      "execution_count": null,
      "outputs": []
    },
    {
      "cell_type": "code",
      "source": [
        "# Challenge\n",
        "# Let's now write a program that reads an integer\n",
        "# from a user then displays a message indicating\n",
        "# whether the integer is even or odd.\n",
        "#\n",
        "\n",
        "OUR CODE GOES HERE"
      ],
      "metadata": {
        "id": "iNlhNR94OH-2"
      },
      "execution_count": null,
      "outputs": []
    },
    {
      "cell_type": "code",
      "source": [
        "# Challenge\n",
        "# Can you write a program that has a third option to detect prime numbers?\n",
        "#\n",
        "\n",
        "OUR CODE GOES HERE"
      ],
      "metadata": {
        "id": "KjgcTECXOLSZ"
      },
      "execution_count": null,
      "outputs": []
    },
    {
      "cell_type": "code",
      "source": [
        "# Challenge\n",
        "# We now write a program that reads a input from a user.\n",
        "# If the user enters a, e, i, o or u then our program should\n",
        "# display a message indicating that the entered letter is a vowel.\n",
        "# If our user enters y then our program should display a message\n",
        "# indicating that sometimes y is a vowel, and sometimes y is a consonant.\n",
        "# Otherwise our program should display a message indicating that the\n",
        "# letter is a consonant.\n",
        "#\n",
        "\n",
        "OUR CODE GOES HERE"
      ],
      "metadata": {
        "id": "6QHgEQKfORZz"
      },
      "execution_count": null,
      "outputs": []
    },
    {
      "cell_type": "code",
      "source": [
        "# Challenge\n",
        "# Let's now also write another program that asks for a number and computes the\n",
        "# square of that number. If the square is 100 or greater, print the squared value\n",
        "# and the word 'big'. Otherwise if the square is 50 or greater, print the\n",
        "# squared value and the word 'medium'. Otherwise just print 'too small to bother with'.\n",
        "# Hint: To compute squared, use x*x or x**2\n",
        "#\n",
        "\n",
        "OUR CODE GOES HERE"
      ],
      "metadata": {
        "id": "-Oa_Mh2UOU8h"
      },
      "execution_count": null,
      "outputs": []
    },
    {
      "cell_type": "markdown",
      "source": [
        "### else"
      ],
      "metadata": {
        "id": "K4cQO7CVOWcd"
      }
    },
    {
      "cell_type": "code",
      "source": [
        "# Example\n",
        "# the else statement catches anything else not caught by the\n",
        "# previous conditions\n",
        "\n",
        "# declaring our variables\n",
        "\n",
        "x =134\n",
        "y =33\n",
        "\n",
        "if y>x:\n",
        "  print(\"y is better\")\n",
        "elif x == y:\n",
        "  print(\"no difference\")\n",
        "else:\n",
        "  print(\"x is better\")"
      ],
      "metadata": {
        "colab": {
          "base_uri": "https://localhost:8080/"
        },
        "id": "z8ZKKSbBOZIG",
        "outputId": "ed0ebeb7-3a74-4722-e487-bb32b54a0b8d"
      },
      "execution_count": null,
      "outputs": [
        {
          "output_type": "stream",
          "name": "stdout",
          "text": [
            "x is better\n"
          ]
        }
      ]
    },
    {
      "cell_type": "code",
      "source": [
        "# Example\n",
        "# the else keyword can be used without elif as shown\n",
        "\n",
        "# prompt the user for some input\n",
        "temp_outside = float(input('What is the temperature outside? '))\n",
        "\n",
        "if temp_outside > 28:\n",
        "  print(\"No need for a sweater\")\n",
        "else:\n",
        "  print(\"Wear a sweater\")"
      ],
      "metadata": {
        "colab": {
          "base_uri": "https://localhost:8080/"
        },
        "id": "wDS1yu_bPMm-",
        "outputId": "12bbe970-9cdf-4d77-e2ec-fa0ae214b8b7"
      },
      "execution_count": null,
      "outputs": [
        {
          "output_type": "stream",
          "name": "stdout",
          "text": [
            "What is the temperature outside? 18\n",
            "Wear a sweater\n"
          ]
        }
      ]
    },
    {
      "cell_type": "code",
      "source": [
        "# Challenge\n",
        "# Let's write a program that reads a month and day from the user.\n",
        "# If the month and day matches one of the holidays listed previously\n",
        "# then the program should display the Kenyan holiday’s name.\n",
        "# Otherwise our program should indicate that the entered month and day\n",
        "# do not correspond to a holiday. (You should use the else keyword)\n",
        "#\n",
        "\n",
        "OUR CODE GOES HERE"
      ],
      "metadata": {
        "id": "F3Rqw0O-QLXw"
      },
      "execution_count": null,
      "outputs": []
    },
    {
      "cell_type": "code",
      "source": [
        "\n",
        "## Challenge\n",
        "# Write a program that reads a wavelength from the user and reports its color.\n",
        "# Display an appropriate error message if the wavelength entered by the user\n",
        "# is outside of the visible spectrum.\n",
        "# (You can do external research on this challenge to determine the wavelength).\n",
        "# You should use the else keyword.\n",
        "\n",
        "OUR CODE GOES HERE"
      ],
      "metadata": {
        "id": "P0f91qGqQQSK"
      },
      "execution_count": null,
      "outputs": []
    },
    {
      "cell_type": "code",
      "source": [
        "# Challenge\n",
        "# Let's create a program that reads the name of a month from the user as a string,\n",
        "# then displays the number of days in that month.\n",
        "# The length of a month varies from 28 to 31 days.\n",
        "# The program needs to also display “28 or 29 days” for February\n",
        "# so that leap years are taken into account.\n",
        "# The program should use the else keyword.\n",
        "#\n",
        "\n",
        "OUR CODE GOES HERE"
      ],
      "metadata": {
        "id": "voTBiv1jQXWB"
      },
      "execution_count": null,
      "outputs": []
    },
    {
      "cell_type": "markdown",
      "source": [
        "### AND (and)"
      ],
      "metadata": {
        "id": "sUSCYSkoFW4A"
      }
    },
    {
      "cell_type": "code",
      "source": [
        "# Example\n",
        "# We can also use the and keyword to combine conditional statements\n",
        "#\n",
        "\n",
        "# declaring our variables\n",
        "x = 11\n",
        "y = 10\n",
        "z = 12\n",
        "\n",
        "if x > y and z > x:\n",
        "  print(\"Both conditions are True\")"
      ],
      "metadata": {
        "colab": {
          "base_uri": "https://localhost:8080/"
        },
        "id": "Og3QKLY5FY5w",
        "outputId": "2eb257b4-606c-4b0a-f6d9-d8fd899c4c29"
      },
      "execution_count": null,
      "outputs": [
        {
          "output_type": "stream",
          "name": "stdout",
          "text": [
            "Both conditions are True\n"
          ]
        }
      ]
    },
    {
      "cell_type": "code",
      "source": [
        "# Example\n",
        "# declaring some variables\n",
        "\n",
        "name = \"Ron\"\n",
        "country = \"Zambia\"\n",
        "\n",
        "if name == \"Ron\" and  country == \"Zambia\":\n",
        "  print (\"Your name is Ron, and you're from Zambia\")\n",
        "else:\n",
        "  print (\"You're not Ron who is from Zambia\")"
      ],
      "metadata": {
        "colab": {
          "base_uri": "https://localhost:8080/"
        },
        "id": "RfiCFlxYGEXV",
        "outputId": "44bc11cf-1323-4cd1-86b4-51eaf847b079"
      },
      "execution_count": null,
      "outputs": [
        {
          "output_type": "stream",
          "name": "stdout",
          "text": [
            "Your name is Ron, and you're from Zambia\n"
          ]
        }
      ]
    },
    {
      "cell_type": "markdown",
      "source": [
        "### OR (or)"
      ],
      "metadata": {
        "id": "Lh4aI1K-HGG9"
      }
    },
    {
      "cell_type": "code",
      "source": [
        "# Example\n",
        "# we can also or to combine conditional statements\n",
        "\n",
        "# declare our variables\n",
        "x = 10\n",
        "y = 11\n",
        "z = 9\n",
        "\n",
        "if x > y or x>z:\n",
        "  print(\"At least one of the conditions is True\")"
      ],
      "metadata": {
        "id": "G_s2b1hrGuQD"
      },
      "execution_count": null,
      "outputs": []
    },
    {
      "cell_type": "code",
      "source": [
        "# example\n",
        "\n",
        "# using the or keyword with inputs\n",
        "x = int(input(\"Enter the value of x = \"))\n",
        "y = int(input(\"Enter the value of y = \"))\n",
        "\n",
        "if (x >=15) or (y <= 25):\n",
        "  print ( \"x >= 15 or y <= 25\")\n",
        "else:\n",
        "  print (\"Value of x < 15 and y >25\")"
      ],
      "metadata": {
        "colab": {
          "base_uri": "https://localhost:8080/"
        },
        "id": "2O25jgekISl3",
        "outputId": "2f2f9a27-ec3f-47fd-96c0-8d68a16f09f8"
      },
      "execution_count": null,
      "outputs": [
        {
          "output_type": "stream",
          "name": "stdout",
          "text": [
            "Enter the value of x = 15\n",
            "Enter the value of y = 62\n",
            "x >= 15 or y <= 25\n"
          ]
        }
      ]
    },
    {
      "cell_type": "code",
      "source": [
        "# Example\n",
        "# declaring our variables\n",
        "\n",
        "w = 10\n",
        "x = 15\n",
        "y = 20\n",
        "z = 25\n",
        "\n",
        "if (w == 10 or x == 15) and (y == 16 or z == 26):\n",
        "  print(\" The condition is true\")\n",
        "else:\n",
        "  print (\"False\")"
      ],
      "metadata": {
        "colab": {
          "base_uri": "https://localhost:8080/"
        },
        "id": "nfid9LuTJ_rV",
        "outputId": "4e41b49d-4af8-48bb-bb71-07505a685ba3"
      },
      "execution_count": null,
      "outputs": [
        {
          "output_type": "stream",
          "name": "stdout",
          "text": [
            "False\n"
          ]
        }
      ]
    },
    {
      "cell_type": "code",
      "source": [
        "# Challenge\n",
        "# Given the 3 sides of a triangle x, y and z, let's find out\n",
        "# whether the triangle is equilateral, isosceles or obtuse.\n",
        "# Note: An equilateral triangle has all sides are equal,\n",
        "# isosceles means that two of the sides are equal but not the third one,\n",
        "# obtuse means all 3 are different. The user will be prompted\n",
        "# to provide the values of x, y and z\n",
        "#\n",
        "\n",
        "\n",
        "x = int(input(\"Enter the value of x = \"))\n",
        "y = int(input(\"Enter the value of y = \"))\n",
        "z = int(input(\"Enter the value of z = \"))\n",
        "\n",
        "\n",
        "if x==y==z:\n",
        "  print(\"Equilateral triangle\")\n",
        "elif x!=y!=z:\n",
        "  print(\"Obtuse triangle\")\n",
        "else:\n",
        "  print(\"Isosceles triangle\")"
      ],
      "metadata": {
        "colab": {
          "base_uri": "https://localhost:8080/"
        },
        "id": "F2zch096LX7O",
        "outputId": "119a4a1a-f458-4230-cfef-1dff556361b5"
      },
      "execution_count": null,
      "outputs": [
        {
          "output_type": "stream",
          "name": "stdout",
          "text": [
            "Enter the value of x = 7\n",
            "Enter the value of y = 8\n",
            "Enter the value of z = 9\n",
            "Obtuse triangle\n"
          ]
        }
      ]
    },
    {
      "cell_type": "code",
      "source": [
        "# Challenge\n",
        "# Using the Or operator, let's create a function\n",
        "# that checks whether a number given\n",
        "# by a user is greater than 30 or greater than 100.\n",
        "#\n",
        "\n",
        "OUR CODE GOES HERE"
      ],
      "metadata": {
        "id": "DMsMKZkCR3VE"
      },
      "execution_count": null,
      "outputs": []
    },
    {
      "cell_type": "code",
      "source": [
        "# Challenge\n",
        "# Let's write a program that prompts a letter from a user.\n",
        "# When any of the letters a, e, i, o or u are entered,\n",
        "# then your program should display a message indicating that the entered letter is a vowel.\n",
        "# If the user enters y then your program should display a message\n",
        "# indicating that sometimes y is a vowel, and sometimes y is a consonant.\n",
        "# Else the program should display a message indicating that the letter is a consonant.\n",
        "#\n",
        "\n",
        "OUR CODE GOES HERE"
      ],
      "metadata": {
        "id": "1ArSt-YXR9kR"
      },
      "execution_count": null,
      "outputs": []
    },
    {
      "cell_type": "code",
      "source": [
        "# Challenge\n",
        "# Write a program that reads a wavelength from the user and reports its color.\n",
        "# Display an appropriate error message if the wavelength entered by the user\n",
        "# is outside of the visible spectrum.\n",
        "# (You can do external research on this challenge to determine the wavelength).\n",
        "# You should use the else keyword.\n",
        "#\n"
      ],
      "metadata": {
        "id": "cJbh9-85SCoq"
      },
      "execution_count": null,
      "outputs": []
    },
    {
      "cell_type": "markdown",
      "source": [
        "### Loops and Iterations"
      ],
      "metadata": {
        "id": "CvMl1uiHSHIT"
      }
    },
    {
      "cell_type": "code",
      "source": [
        "# for, while, continue, break\n",
        "# Example\n",
        "# iterate over a range\n",
        "# the fstring allows for expressions inside a string\n",
        "\n",
        "for i in range(5):\n",
        "  print(f\"Iteration {i}\") # the f is called an f-string"
      ],
      "metadata": {
        "colab": {
          "base_uri": "https://localhost:8080/"
        },
        "id": "068mCrLnSGXL",
        "outputId": "c4bee31f-bdd9-47bb-f311-c441805e8c94"
      },
      "execution_count": null,
      "outputs": [
        {
          "output_type": "stream",
          "name": "stdout",
          "text": [
            "Iteration 0\n",
            "Iteration 1\n",
            "Iteration 2\n",
            "Iteration 3\n",
            "Iteration 4\n"
          ]
        }
      ]
    },
    {
      "cell_type": "code",
      "source": [
        "# Example\n",
        "# iterating over a list\n",
        "\n",
        "countries = [\"Kenya\", \"Zambia\", \"South Africa\", \"Guinea\"]\n",
        "\n",
        "for country in countries[1:2]:\n",
        "  print(f\"Welcome to {country}\")"
      ],
      "metadata": {
        "colab": {
          "base_uri": "https://localhost:8080/"
        },
        "id": "U9Sj_fPXULMj",
        "outputId": "b239b459-6345-4e46-f857-6795254313cc"
      },
      "execution_count": null,
      "outputs": [
        {
          "output_type": "stream",
          "name": "stdout",
          "text": [
            "Welcome to Zambia\n"
          ]
        }
      ]
    },
    {
      "cell_type": "code",
      "source": [
        "# using while\n",
        "# evaluates a loop until a condition is met\n",
        "\n",
        "count = 0\n",
        "while count < 5:\n",
        "  print(f\"Count is {count}\")\n",
        "  count += 1"
      ],
      "metadata": {
        "id": "HU3A9dOpVrbj"
      },
      "execution_count": null,
      "outputs": []
    },
    {
      "cell_type": "code",
      "source": [
        "# simple countdown timer\n",
        "\n",
        "timer = 10\n",
        "while timer > 0:\n",
        "  print(f\"Time remaining: {timer} seconds\")\n",
        "  timer -= 1\n",
        "print (\"Game Over\")"
      ],
      "metadata": {
        "colab": {
          "base_uri": "https://localhost:8080/"
        },
        "id": "pNvCFIDXXx8B",
        "outputId": "b22555b2-181b-4f63-ac5f-1187053343a8"
      },
      "execution_count": null,
      "outputs": [
        {
          "output_type": "stream",
          "name": "stdout",
          "text": [
            "Time remaining: 10 seconds\n",
            "Time remaining: 9 seconds\n",
            "Time remaining: 8 seconds\n",
            "Time remaining: 7 seconds\n",
            "Time remaining: 6 seconds\n",
            "Time remaining: 5 seconds\n",
            "Time remaining: 4 seconds\n",
            "Time remaining: 3 seconds\n",
            "Time remaining: 2 seconds\n",
            "Time remaining: 1 seconds\n",
            "Game Over\n"
          ]
        }
      ]
    },
    {
      "cell_type": "code",
      "source": [
        "# break: exit a loop prematurely\n",
        "# stop a loop when a condition is met\n",
        "\n",
        "for i in range(10):\n",
        "  if i == 5:\n",
        "    print (\"Breaking the loop\")\n",
        "    break\n",
        "  print(i)"
      ],
      "metadata": {
        "colab": {
          "base_uri": "https://localhost:8080/"
        },
        "id": "K82K-bopanmz",
        "outputId": "46ad5917-ec79-47a6-a723-58d10470bbf9"
      },
      "execution_count": null,
      "outputs": [
        {
          "output_type": "stream",
          "name": "stdout",
          "text": [
            "0\n",
            "1\n",
            "2\n",
            "3\n",
            "4\n",
            "Breaking the loop\n"
          ]
        }
      ]
    },
    {
      "cell_type": "code",
      "source": [
        "# continue: skip the rest of the code for some current iteration\n",
        "# skips certain iterations\n",
        "\n",
        "for i in range(10):\n",
        "  if i % 2 != 0: # skip the odd numbers\n",
        "    continue\n",
        "  print(i)"
      ],
      "metadata": {
        "colab": {
          "base_uri": "https://localhost:8080/"
        },
        "id": "sKO_dM_xa_2U",
        "outputId": "1e60a0d7-0748-4774-e570-b7b6e9c7e09c"
      },
      "execution_count": null,
      "outputs": [
        {
          "output_type": "stream",
          "name": "stdout",
          "text": [
            "0\n",
            "2\n",
            "4\n",
            "6\n",
            "8\n"
          ]
        }
      ]
    },
    {
      "cell_type": "code",
      "source": [
        "# Challenge\n",
        "# Problem: Print numbers from 1 to 20. For multiples of 3, print \"Fizz\";\n",
        "# for multiples of 5, print \"Buzz\"; for multiples of both, print \"FizzBuzz.\"\n"
      ],
      "metadata": {
        "id": "WCquLelfbiPx"
      },
      "execution_count": null,
      "outputs": []
    },
    {
      "cell_type": "code",
      "source": [
        "# Challenge\n",
        "# Password Validation\n",
        "# Problem: Prompt the user to enter a password. Allow up to 3 attempts before locking them out."
      ],
      "metadata": {
        "id": "yy-jMqM1bvoA"
      },
      "execution_count": null,
      "outputs": []
    },
    {
      "cell_type": "code",
      "source": [
        "# Challenge\n",
        "# Summation: Find the sum of all even numbers between 1 and 100.\n",
        "# Using a loop to sum even numbers"
      ],
      "metadata": {
        "id": "RMWoX09bbzMC"
      },
      "execution_count": null,
      "outputs": []
    },
    {
      "cell_type": "markdown",
      "source": [
        "### Lists, Tuples, Dictionaries, Sets"
      ],
      "metadata": {
        "id": "EtRwdzD8QmMw"
      }
    },
    {
      "cell_type": "code",
      "source": [
        "# lists\n",
        "\n",
        "my_list = [1, 2 , 4, \"Epic\"]\n",
        "print(my_list)"
      ],
      "metadata": {
        "colab": {
          "base_uri": "https://localhost:8080/"
        },
        "id": "4jJTGfMFQpWp",
        "outputId": "c53d9024-ce32-423e-fcfe-c497106dffe2"
      },
      "execution_count": null,
      "outputs": [
        {
          "output_type": "stream",
          "name": "stdout",
          "text": [
            "[1, 2, 4, 'Epic']\n"
          ]
        }
      ]
    },
    {
      "cell_type": "code",
      "source": [
        "# add an item to a list\n",
        "# append\n",
        "\n",
        "my_list.append(5)\n",
        "print(my_list)"
      ],
      "metadata": {
        "colab": {
          "base_uri": "https://localhost:8080/"
        },
        "id": "uIKGGvVlRlg1",
        "outputId": "15468500-6945-4082-8209-37db5eea7585"
      },
      "execution_count": null,
      "outputs": [
        {
          "output_type": "stream",
          "name": "stdout",
          "text": [
            "[1, 2, 4, 'Epic', 5]\n"
          ]
        }
      ]
    },
    {
      "cell_type": "code",
      "source": [
        "# joining lists\n",
        "\n",
        "list_2 = [\"Arsenal\", \"Man United\"]\n",
        "list_3 = my_list + list_2\n",
        "print(list_3)"
      ],
      "metadata": {
        "colab": {
          "base_uri": "https://localhost:8080/"
        },
        "id": "uDfSZoXKSHgN",
        "outputId": "12ed91f0-0f14-43a9-a383-3c66a90a3e00"
      },
      "execution_count": null,
      "outputs": [
        {
          "output_type": "stream",
          "name": "stdout",
          "text": [
            "[1, 2, 4, 'Epic', 5, 'Arsenal', 'Man United']\n"
          ]
        }
      ]
    },
    {
      "cell_type": "code",
      "source": [
        "# joining list by using extend\n",
        "\n",
        "#list_4 = list_3.extend(my_list)\n",
        "list_3.extend(my_list)\n",
        "print(list_3)"
      ],
      "metadata": {
        "colab": {
          "base_uri": "https://localhost:8080/"
        },
        "id": "jFvZpfw8SoGO",
        "outputId": "6fca7bc4-855d-4e3e-d60a-f63655ae0f4c"
      },
      "execution_count": null,
      "outputs": [
        {
          "output_type": "stream",
          "name": "stdout",
          "text": [
            "[1, 2, 4, 'Epic', 5, 'Arsenal', 'Man United', 1, 2, 4, 'Epic', 5, 1, 2, 4, 'Epic', 5, 1, 2, 4, 'Epic', 5]\n"
          ]
        }
      ]
    },
    {
      "cell_type": "code",
      "source": [
        "# tuple\n",
        "\n",
        "my_tuple = (\"Epic\", False, int(3), float(38))\n",
        "print(my_tuple)"
      ],
      "metadata": {
        "colab": {
          "base_uri": "https://localhost:8080/"
        },
        "id": "xGs_8RTPT7xC",
        "outputId": "550531fe-73fe-457b-e933-e42a3d688f68"
      },
      "execution_count": null,
      "outputs": [
        {
          "output_type": "stream",
          "name": "stdout",
          "text": [
            "('Epic', False, 3, 38.0)\n"
          ]
        }
      ]
    },
    {
      "cell_type": "code",
      "source": [
        "# importance of tuples\n",
        "# coordinates\n",
        "coordinates = (-1.345678, 36.876543)\n",
        "print(coordinates)\n",
        "red = (255, 0, 0)\n",
        "green = (0, 255, 0)\n",
        "blue = (0, 0, 255)\n",
        "black = (0, 0, 0)"
      ],
      "metadata": {
        "colab": {
          "base_uri": "https://localhost:8080/"
        },
        "id": "79Ic4zWjUUXl",
        "outputId": "dfecfafa-6385-4e98-833c-5b9a5bd38781"
      },
      "execution_count": null,
      "outputs": [
        {
          "output_type": "stream",
          "name": "stdout",
          "text": [
            "(-1.345678, 36.876543)\n"
          ]
        }
      ]
    },
    {
      "cell_type": "code",
      "source": [
        "# dictionary\n",
        "# a dictionary allows for multiple variables and their values\n",
        "\n",
        "my_dict = {\"name\": \"Ron\", \"country\":\"Zambia\",\"club\":\"Man Utd\"}\n",
        "print(my_dict)"
      ],
      "metadata": {
        "colab": {
          "base_uri": "https://localhost:8080/"
        },
        "id": "IbbeJGkuWtOy",
        "outputId": "1509eb3d-75ce-46e5-8b28-9fae89454d5e"
      },
      "execution_count": null,
      "outputs": [
        {
          "output_type": "stream",
          "name": "stdout",
          "text": [
            "{'name': 'Ron', 'country': 'Zambia', 'club': 'Man Utd'}\n"
          ]
        }
      ]
    },
    {
      "cell_type": "code",
      "source": [
        "# printing a certain variable in a dictionary\n",
        "print(my_dict[\"name\"])"
      ],
      "metadata": {
        "colab": {
          "base_uri": "https://localhost:8080/"
        },
        "id": "-BXx3-Q9X8BE",
        "outputId": "a5809e3c-d32a-4b5f-95a6-7e55ed3f30f0"
      },
      "execution_count": null,
      "outputs": [
        {
          "output_type": "stream",
          "name": "stdout",
          "text": [
            "Ron\n"
          ]
        }
      ]
    },
    {
      "cell_type": "code",
      "source": [
        "# add items to a dictionary\n",
        "my_dict[\"position\"] = \"Striker\"\n",
        "print(my_dict)"
      ],
      "metadata": {
        "colab": {
          "base_uri": "https://localhost:8080/"
        },
        "id": "6dkpP0ILYWfD",
        "outputId": "707c279f-c5c8-4b2b-a9bf-23dbf774ddbd"
      },
      "execution_count": null,
      "outputs": [
        {
          "output_type": "stream",
          "name": "stdout",
          "text": [
            "{'name': 'Ron', 'country': 'Zambia', 'club': 'Man Utd', 'position': 'Striker'}\n"
          ]
        }
      ]
    },
    {
      "cell_type": "code",
      "source": [
        "# is it possible to add more than one item to a variables\n",
        "# in a dictionary\n",
        "\n",
        "my_dict2 = {\n",
        "\n",
        "    \"name\": [\"Ron\",\"Kilemi\",\"Onana\"],\n",
        "    \"country\":[\"Zambia\",\"Kenya\",\"Cameroon\"],\n",
        "    \"club\":[\"Man Utd\",\"Liverpool\",\"Man Utd\"],\n",
        "    \"position\": ['Striker', \"Fan\",\"Goalkeeper\"],\n",
        "    #\"resolution\": [\"10px\",\"top-right\",\"logo.png\",\"blue\"]\n",
        "\n",
        "    }\n",
        "\n",
        "print(my_dict2[\"club\"])"
      ],
      "metadata": {
        "colab": {
          "base_uri": "https://localhost:8080/"
        },
        "id": "0Z9LDBjkYfFP",
        "outputId": "8a465143-12a4-48b3-ce21-7741660e5dcc"
      },
      "execution_count": null,
      "outputs": [
        {
          "output_type": "stream",
          "name": "stdout",
          "text": [
            "['Man Utd', 'Liverpool', 'Man Utd']\n"
          ]
        }
      ]
    },
    {
      "cell_type": "code",
      "source": [
        "# a dictionary can be converted into a dataframe\n",
        "# import sklearn as sk\n",
        "\n",
        "import pandas as pd #importing pandas\n",
        "df = pd.DataFrame(my_dict2)\n",
        "df['club'].value_counts()"
      ],
      "metadata": {
        "colab": {
          "base_uri": "https://localhost:8080/",
          "height": 178
        },
        "id": "MNxGJ7yvbv4a",
        "outputId": "e94dd5e3-b181-44dc-c478-e64c71174890"
      },
      "execution_count": null,
      "outputs": [
        {
          "output_type": "execute_result",
          "data": {
            "text/plain": [
              "club\n",
              "Man Utd      2\n",
              "Liverpool    1\n",
              "Name: count, dtype: int64"
            ],
            "text/html": [
              "<div>\n",
              "<style scoped>\n",
              "    .dataframe tbody tr th:only-of-type {\n",
              "        vertical-align: middle;\n",
              "    }\n",
              "\n",
              "    .dataframe tbody tr th {\n",
              "        vertical-align: top;\n",
              "    }\n",
              "\n",
              "    .dataframe thead th {\n",
              "        text-align: right;\n",
              "    }\n",
              "</style>\n",
              "<table border=\"1\" class=\"dataframe\">\n",
              "  <thead>\n",
              "    <tr style=\"text-align: right;\">\n",
              "      <th></th>\n",
              "      <th>count</th>\n",
              "    </tr>\n",
              "    <tr>\n",
              "      <th>club</th>\n",
              "      <th></th>\n",
              "    </tr>\n",
              "  </thead>\n",
              "  <tbody>\n",
              "    <tr>\n",
              "      <th>Man Utd</th>\n",
              "      <td>2</td>\n",
              "    </tr>\n",
              "    <tr>\n",
              "      <th>Liverpool</th>\n",
              "      <td>1</td>\n",
              "    </tr>\n",
              "  </tbody>\n",
              "</table>\n",
              "</div><br><label><b>dtype:</b> int64</label>"
            ]
          },
          "metadata": {},
          "execution_count": 18
        }
      ]
    },
    {
      "cell_type": "code",
      "source": [
        "# use a dictionary as a value of a dictionary\n",
        "\n",
        "products = {\n",
        "    \"Laptop\":{\n",
        "        \"price\": 47000,\n",
        "        \"stock\": 350,\n",
        "        \"category\": \"Electronics\"\n",
        "    },\n",
        "\n",
        "    \"Mouse\":{\n",
        "        \"price\": 5000,\n",
        "        \"stock\": 500,\n",
        "        \"category\": \"Accessories\"\n",
        "    },\n",
        "\n",
        "    \"Keyboard\":{\n",
        "        \"price\": 6000,\n",
        "        \"stock\": 100,\n",
        "        \"category\": \"Accessories\"\n",
        "    }\n",
        "    }\n",
        "\n",
        "print(f\"Mouse details: {products['Mouse']}\")"
      ],
      "metadata": {
        "colab": {
          "base_uri": "https://localhost:8080/"
        },
        "id": "oqR5WcBgeePd",
        "outputId": "1ccf0a48-c756-479b-b788-2eee4c90354c"
      },
      "execution_count": null,
      "outputs": [
        {
          "output_type": "stream",
          "name": "stdout",
          "text": [
            "Mouse details: {'price': 5000, 'stock': 500, 'category': 'Accessories'}\n"
          ]
        }
      ]
    },
    {
      "cell_type": "code",
      "source": [
        "# tensors\n",
        "\n",
        "df = pd.DataFrame(products)\n",
        "df"
      ],
      "metadata": {
        "colab": {
          "base_uri": "https://localhost:8080/",
          "height": 143
        },
        "id": "j6lPUSBehX7u",
        "outputId": "3b49a9f8-0f67-4edf-b8a5-bf1815103569"
      },
      "execution_count": null,
      "outputs": [
        {
          "output_type": "execute_result",
          "data": {
            "text/plain": [
              "               Laptop        Mouse     Keyboard\n",
              "price           47000         5000         6000\n",
              "stock             350          500          100\n",
              "category  Electronics  Accessories  Accessories"
            ],
            "text/html": [
              "\n",
              "  <div id=\"df-6123aa39-4c21-4203-b524-7079d42e51c2\" class=\"colab-df-container\">\n",
              "    <div>\n",
              "<style scoped>\n",
              "    .dataframe tbody tr th:only-of-type {\n",
              "        vertical-align: middle;\n",
              "    }\n",
              "\n",
              "    .dataframe tbody tr th {\n",
              "        vertical-align: top;\n",
              "    }\n",
              "\n",
              "    .dataframe thead th {\n",
              "        text-align: right;\n",
              "    }\n",
              "</style>\n",
              "<table border=\"1\" class=\"dataframe\">\n",
              "  <thead>\n",
              "    <tr style=\"text-align: right;\">\n",
              "      <th></th>\n",
              "      <th>Laptop</th>\n",
              "      <th>Mouse</th>\n",
              "      <th>Keyboard</th>\n",
              "    </tr>\n",
              "  </thead>\n",
              "  <tbody>\n",
              "    <tr>\n",
              "      <th>price</th>\n",
              "      <td>47000</td>\n",
              "      <td>5000</td>\n",
              "      <td>6000</td>\n",
              "    </tr>\n",
              "    <tr>\n",
              "      <th>stock</th>\n",
              "      <td>350</td>\n",
              "      <td>500</td>\n",
              "      <td>100</td>\n",
              "    </tr>\n",
              "    <tr>\n",
              "      <th>category</th>\n",
              "      <td>Electronics</td>\n",
              "      <td>Accessories</td>\n",
              "      <td>Accessories</td>\n",
              "    </tr>\n",
              "  </tbody>\n",
              "</table>\n",
              "</div>\n",
              "    <div class=\"colab-df-buttons\">\n",
              "\n",
              "  <div class=\"colab-df-container\">\n",
              "    <button class=\"colab-df-convert\" onclick=\"convertToInteractive('df-6123aa39-4c21-4203-b524-7079d42e51c2')\"\n",
              "            title=\"Convert this dataframe to an interactive table.\"\n",
              "            style=\"display:none;\">\n",
              "\n",
              "  <svg xmlns=\"http://www.w3.org/2000/svg\" height=\"24px\" viewBox=\"0 -960 960 960\">\n",
              "    <path d=\"M120-120v-720h720v720H120Zm60-500h600v-160H180v160Zm220 220h160v-160H400v160Zm0 220h160v-160H400v160ZM180-400h160v-160H180v160Zm440 0h160v-160H620v160ZM180-180h160v-160H180v160Zm440 0h160v-160H620v160Z\"/>\n",
              "  </svg>\n",
              "    </button>\n",
              "\n",
              "  <style>\n",
              "    .colab-df-container {\n",
              "      display:flex;\n",
              "      gap: 12px;\n",
              "    }\n",
              "\n",
              "    .colab-df-convert {\n",
              "      background-color: #E8F0FE;\n",
              "      border: none;\n",
              "      border-radius: 50%;\n",
              "      cursor: pointer;\n",
              "      display: none;\n",
              "      fill: #1967D2;\n",
              "      height: 32px;\n",
              "      padding: 0 0 0 0;\n",
              "      width: 32px;\n",
              "    }\n",
              "\n",
              "    .colab-df-convert:hover {\n",
              "      background-color: #E2EBFA;\n",
              "      box-shadow: 0px 1px 2px rgba(60, 64, 67, 0.3), 0px 1px 3px 1px rgba(60, 64, 67, 0.15);\n",
              "      fill: #174EA6;\n",
              "    }\n",
              "\n",
              "    .colab-df-buttons div {\n",
              "      margin-bottom: 4px;\n",
              "    }\n",
              "\n",
              "    [theme=dark] .colab-df-convert {\n",
              "      background-color: #3B4455;\n",
              "      fill: #D2E3FC;\n",
              "    }\n",
              "\n",
              "    [theme=dark] .colab-df-convert:hover {\n",
              "      background-color: #434B5C;\n",
              "      box-shadow: 0px 1px 3px 1px rgba(0, 0, 0, 0.15);\n",
              "      filter: drop-shadow(0px 1px 2px rgba(0, 0, 0, 0.3));\n",
              "      fill: #FFFFFF;\n",
              "    }\n",
              "  </style>\n",
              "\n",
              "    <script>\n",
              "      const buttonEl =\n",
              "        document.querySelector('#df-6123aa39-4c21-4203-b524-7079d42e51c2 button.colab-df-convert');\n",
              "      buttonEl.style.display =\n",
              "        google.colab.kernel.accessAllowed ? 'block' : 'none';\n",
              "\n",
              "      async function convertToInteractive(key) {\n",
              "        const element = document.querySelector('#df-6123aa39-4c21-4203-b524-7079d42e51c2');\n",
              "        const dataTable =\n",
              "          await google.colab.kernel.invokeFunction('convertToInteractive',\n",
              "                                                    [key], {});\n",
              "        if (!dataTable) return;\n",
              "\n",
              "        const docLinkHtml = 'Like what you see? Visit the ' +\n",
              "          '<a target=\"_blank\" href=https://colab.research.google.com/notebooks/data_table.ipynb>data table notebook</a>'\n",
              "          + ' to learn more about interactive tables.';\n",
              "        element.innerHTML = '';\n",
              "        dataTable['output_type'] = 'display_data';\n",
              "        await google.colab.output.renderOutput(dataTable, element);\n",
              "        const docLink = document.createElement('div');\n",
              "        docLink.innerHTML = docLinkHtml;\n",
              "        element.appendChild(docLink);\n",
              "      }\n",
              "    </script>\n",
              "  </div>\n",
              "\n",
              "\n",
              "    <div id=\"df-ffd247cd-8488-45d7-a296-ebb9de5f14ea\">\n",
              "      <button class=\"colab-df-quickchart\" onclick=\"quickchart('df-ffd247cd-8488-45d7-a296-ebb9de5f14ea')\"\n",
              "                title=\"Suggest charts\"\n",
              "                style=\"display:none;\">\n",
              "\n",
              "<svg xmlns=\"http://www.w3.org/2000/svg\" height=\"24px\"viewBox=\"0 0 24 24\"\n",
              "     width=\"24px\">\n",
              "    <g>\n",
              "        <path d=\"M19 3H5c-1.1 0-2 .9-2 2v14c0 1.1.9 2 2 2h14c1.1 0 2-.9 2-2V5c0-1.1-.9-2-2-2zM9 17H7v-7h2v7zm4 0h-2V7h2v10zm4 0h-2v-4h2v4z\"/>\n",
              "    </g>\n",
              "</svg>\n",
              "      </button>\n",
              "\n",
              "<style>\n",
              "  .colab-df-quickchart {\n",
              "      --bg-color: #E8F0FE;\n",
              "      --fill-color: #1967D2;\n",
              "      --hover-bg-color: #E2EBFA;\n",
              "      --hover-fill-color: #174EA6;\n",
              "      --disabled-fill-color: #AAA;\n",
              "      --disabled-bg-color: #DDD;\n",
              "  }\n",
              "\n",
              "  [theme=dark] .colab-df-quickchart {\n",
              "      --bg-color: #3B4455;\n",
              "      --fill-color: #D2E3FC;\n",
              "      --hover-bg-color: #434B5C;\n",
              "      --hover-fill-color: #FFFFFF;\n",
              "      --disabled-bg-color: #3B4455;\n",
              "      --disabled-fill-color: #666;\n",
              "  }\n",
              "\n",
              "  .colab-df-quickchart {\n",
              "    background-color: var(--bg-color);\n",
              "    border: none;\n",
              "    border-radius: 50%;\n",
              "    cursor: pointer;\n",
              "    display: none;\n",
              "    fill: var(--fill-color);\n",
              "    height: 32px;\n",
              "    padding: 0;\n",
              "    width: 32px;\n",
              "  }\n",
              "\n",
              "  .colab-df-quickchart:hover {\n",
              "    background-color: var(--hover-bg-color);\n",
              "    box-shadow: 0 1px 2px rgba(60, 64, 67, 0.3), 0 1px 3px 1px rgba(60, 64, 67, 0.15);\n",
              "    fill: var(--button-hover-fill-color);\n",
              "  }\n",
              "\n",
              "  .colab-df-quickchart-complete:disabled,\n",
              "  .colab-df-quickchart-complete:disabled:hover {\n",
              "    background-color: var(--disabled-bg-color);\n",
              "    fill: var(--disabled-fill-color);\n",
              "    box-shadow: none;\n",
              "  }\n",
              "\n",
              "  .colab-df-spinner {\n",
              "    border: 2px solid var(--fill-color);\n",
              "    border-color: transparent;\n",
              "    border-bottom-color: var(--fill-color);\n",
              "    animation:\n",
              "      spin 1s steps(1) infinite;\n",
              "  }\n",
              "\n",
              "  @keyframes spin {\n",
              "    0% {\n",
              "      border-color: transparent;\n",
              "      border-bottom-color: var(--fill-color);\n",
              "      border-left-color: var(--fill-color);\n",
              "    }\n",
              "    20% {\n",
              "      border-color: transparent;\n",
              "      border-left-color: var(--fill-color);\n",
              "      border-top-color: var(--fill-color);\n",
              "    }\n",
              "    30% {\n",
              "      border-color: transparent;\n",
              "      border-left-color: var(--fill-color);\n",
              "      border-top-color: var(--fill-color);\n",
              "      border-right-color: var(--fill-color);\n",
              "    }\n",
              "    40% {\n",
              "      border-color: transparent;\n",
              "      border-right-color: var(--fill-color);\n",
              "      border-top-color: var(--fill-color);\n",
              "    }\n",
              "    60% {\n",
              "      border-color: transparent;\n",
              "      border-right-color: var(--fill-color);\n",
              "    }\n",
              "    80% {\n",
              "      border-color: transparent;\n",
              "      border-right-color: var(--fill-color);\n",
              "      border-bottom-color: var(--fill-color);\n",
              "    }\n",
              "    90% {\n",
              "      border-color: transparent;\n",
              "      border-bottom-color: var(--fill-color);\n",
              "    }\n",
              "  }\n",
              "</style>\n",
              "\n",
              "      <script>\n",
              "        async function quickchart(key) {\n",
              "          const quickchartButtonEl =\n",
              "            document.querySelector('#' + key + ' button');\n",
              "          quickchartButtonEl.disabled = true;  // To prevent multiple clicks.\n",
              "          quickchartButtonEl.classList.add('colab-df-spinner');\n",
              "          try {\n",
              "            const charts = await google.colab.kernel.invokeFunction(\n",
              "                'suggestCharts', [key], {});\n",
              "          } catch (error) {\n",
              "            console.error('Error during call to suggestCharts:', error);\n",
              "          }\n",
              "          quickchartButtonEl.classList.remove('colab-df-spinner');\n",
              "          quickchartButtonEl.classList.add('colab-df-quickchart-complete');\n",
              "        }\n",
              "        (() => {\n",
              "          let quickchartButtonEl =\n",
              "            document.querySelector('#df-ffd247cd-8488-45d7-a296-ebb9de5f14ea button');\n",
              "          quickchartButtonEl.style.display =\n",
              "            google.colab.kernel.accessAllowed ? 'block' : 'none';\n",
              "        })();\n",
              "      </script>\n",
              "    </div>\n",
              "\n",
              "  <div id=\"id_deea7223-db5b-4374-9cd0-5cc5ed0568cc\">\n",
              "    <style>\n",
              "      .colab-df-generate {\n",
              "        background-color: #E8F0FE;\n",
              "        border: none;\n",
              "        border-radius: 50%;\n",
              "        cursor: pointer;\n",
              "        display: none;\n",
              "        fill: #1967D2;\n",
              "        height: 32px;\n",
              "        padding: 0 0 0 0;\n",
              "        width: 32px;\n",
              "      }\n",
              "\n",
              "      .colab-df-generate:hover {\n",
              "        background-color: #E2EBFA;\n",
              "        box-shadow: 0px 1px 2px rgba(60, 64, 67, 0.3), 0px 1px 3px 1px rgba(60, 64, 67, 0.15);\n",
              "        fill: #174EA6;\n",
              "      }\n",
              "\n",
              "      [theme=dark] .colab-df-generate {\n",
              "        background-color: #3B4455;\n",
              "        fill: #D2E3FC;\n",
              "      }\n",
              "\n",
              "      [theme=dark] .colab-df-generate:hover {\n",
              "        background-color: #434B5C;\n",
              "        box-shadow: 0px 1px 3px 1px rgba(0, 0, 0, 0.15);\n",
              "        filter: drop-shadow(0px 1px 2px rgba(0, 0, 0, 0.3));\n",
              "        fill: #FFFFFF;\n",
              "      }\n",
              "    </style>\n",
              "    <button class=\"colab-df-generate\" onclick=\"generateWithVariable('df')\"\n",
              "            title=\"Generate code using this dataframe.\"\n",
              "            style=\"display:none;\">\n",
              "\n",
              "  <svg xmlns=\"http://www.w3.org/2000/svg\" height=\"24px\"viewBox=\"0 0 24 24\"\n",
              "       width=\"24px\">\n",
              "    <path d=\"M7,19H8.4L18.45,9,17,7.55,7,17.6ZM5,21V16.75L18.45,3.32a2,2,0,0,1,2.83,0l1.4,1.43a1.91,1.91,0,0,1,.58,1.4,1.91,1.91,0,0,1-.58,1.4L9.25,21ZM18.45,9,17,7.55Zm-12,3A5.31,5.31,0,0,0,4.9,8.1,5.31,5.31,0,0,0,1,6.5,5.31,5.31,0,0,0,4.9,4.9,5.31,5.31,0,0,0,6.5,1,5.31,5.31,0,0,0,8.1,4.9,5.31,5.31,0,0,0,12,6.5,5.46,5.46,0,0,0,6.5,12Z\"/>\n",
              "  </svg>\n",
              "    </button>\n",
              "    <script>\n",
              "      (() => {\n",
              "      const buttonEl =\n",
              "        document.querySelector('#id_deea7223-db5b-4374-9cd0-5cc5ed0568cc button.colab-df-generate');\n",
              "      buttonEl.style.display =\n",
              "        google.colab.kernel.accessAllowed ? 'block' : 'none';\n",
              "\n",
              "      buttonEl.onclick = () => {\n",
              "        google.colab.notebook.generateWithVariable('df');\n",
              "      }\n",
              "      })();\n",
              "    </script>\n",
              "  </div>\n",
              "\n",
              "    </div>\n",
              "  </div>\n"
            ],
            "application/vnd.google.colaboratory.intrinsic+json": {
              "type": "dataframe",
              "variable_name": "df",
              "summary": "{\n  \"name\": \"df\",\n  \"rows\": 3,\n  \"fields\": [\n    {\n      \"column\": \"Laptop\",\n      \"properties\": {\n        \"dtype\": \"string\",\n        \"num_unique_values\": 3,\n        \"samples\": [\n          47000,\n          350,\n          \"Electronics\"\n        ],\n        \"semantic_type\": \"\",\n        \"description\": \"\"\n      }\n    },\n    {\n      \"column\": \"Mouse\",\n      \"properties\": {\n        \"dtype\": \"string\",\n        \"num_unique_values\": 3,\n        \"samples\": [\n          5000,\n          500,\n          \"Accessories\"\n        ],\n        \"semantic_type\": \"\",\n        \"description\": \"\"\n      }\n    },\n    {\n      \"column\": \"Keyboard\",\n      \"properties\": {\n        \"dtype\": \"string\",\n        \"num_unique_values\": 3,\n        \"samples\": [\n          6000,\n          100,\n          \"Accessories\"\n        ],\n        \"semantic_type\": \"\",\n        \"description\": \"\"\n      }\n    }\n  ]\n}"
            }
          },
          "metadata": {},
          "execution_count": 21
        }
      ]
    },
    {
      "cell_type": "code",
      "source": [
        "# sets\n",
        "\n",
        "my_set = {1, 2 ,3 ,4,5, 6}\n",
        "print(my_set)"
      ],
      "metadata": {
        "colab": {
          "base_uri": "https://localhost:8080/"
        },
        "id": "7qiMl5qRi79m",
        "outputId": "a6fca594-7643-4d14-ae51-8e1a181e2985"
      },
      "execution_count": null,
      "outputs": [
        {
          "output_type": "stream",
          "name": "stdout",
          "text": [
            "{1, 2, 3, 4, 5, 6}\n"
          ]
        }
      ]
    },
    {
      "cell_type": "code",
      "source": [
        "# add items to a set\n",
        "\n",
        "my_set.add(7)\n",
        "print(my_set)"
      ],
      "metadata": {
        "colab": {
          "base_uri": "https://localhost:8080/"
        },
        "id": "iwgK7rMdjEGR",
        "outputId": "2cb4fb3c-6fc9-40c4-9b41-2dfd8ad1ea08"
      },
      "execution_count": null,
      "outputs": [
        {
          "output_type": "stream",
          "name": "stdout",
          "text": [
            "{1, 2, 3, 4, 5, 6, 7}\n"
          ]
        }
      ]
    },
    {
      "cell_type": "code",
      "source": [
        "# is it possible to convert a list into a set\n",
        "\n",
        "list_numbers = [1,1,2,4,44,5,5,5,6,7,7,7,9,9,9,9,9,9,10]\n",
        "print(f\"The list: {list_numbers}\")\n",
        "\n",
        "unique_numbers = set(list_numbers)\n",
        "print(f\"The set: {unique_numbers}\")"
      ],
      "metadata": {
        "colab": {
          "base_uri": "https://localhost:8080/"
        },
        "id": "H9Fy60YSjtWl",
        "outputId": "5fc626ab-2b24-4bfb-d958-7b0c6cf3ef37"
      },
      "execution_count": null,
      "outputs": [
        {
          "output_type": "stream",
          "name": "stdout",
          "text": [
            "The list: [1, 1, 2, 4, 44, 5, 5, 5, 6, 7, 7, 7, 9, 9, 9, 9, 9, 9, 10]\n",
            "The set: {1, 2, 4, 5, 6, 7, 9, 10, 44}\n"
          ]
        }
      ]
    },
    {
      "cell_type": "markdown",
      "source": [
        "Functions"
      ],
      "metadata": {
        "id": "h_0f9Uy1k-GL"
      }
    },
    {
      "cell_type": "code",
      "source": [
        "# functions are reusable blocks of code\n",
        "# we use functions for certain or specific tasks\n",
        "# Challenge\n",
        "# write a function that adds 2 numbers\n"
      ],
      "metadata": {
        "id": "G3ZdxOx3k9gG"
      },
      "execution_count": null,
      "outputs": []
    },
    {
      "cell_type": "code",
      "source": [
        "# Challenge\n",
        "# write a function that gets the average of a list of numbers"
      ],
      "metadata": {
        "id": "Swi3VtQ8lGBr"
      },
      "execution_count": null,
      "outputs": []
    },
    {
      "cell_type": "code",
      "source": [
        "# Challenge\n",
        "# write a function that solves the quadratic equation\n",
        "# ax^2 + bx + c\n",
        "# x = (-b +- sqrt(b^2 - 4ac )) / 2a\n",
        "# library is a set/collection of functions that perform\n",
        "# tasks relating to a certain\n",
        "# the math library has functions that solve math problems"
      ],
      "metadata": {
        "id": "xBaeCFRDlKMG"
      },
      "execution_count": null,
      "outputs": []
    },
    {
      "cell_type": "code",
      "source": [
        "# Challenge\n",
        "# in the previous example, provide conditions for user input\n",
        "# that is not a number"
      ],
      "metadata": {
        "id": "iHGP0cJClMhS"
      },
      "execution_count": null,
      "outputs": []
    },
    {
      "cell_type": "code",
      "source": [
        "# Challenge\n",
        "# write a function that gives us the maximum number in a list of numbers"
      ],
      "metadata": {
        "id": "L7mzMBG3lOwH"
      },
      "execution_count": null,
      "outputs": []
    },
    {
      "cell_type": "code",
      "source": [
        "# Challenge\n",
        "# write a function that gives us the minimum number in a list of numbers"
      ],
      "metadata": {
        "id": "QrwQSasYlWBF"
      },
      "execution_count": null,
      "outputs": []
    },
    {
      "cell_type": "code",
      "source": [
        "# Challenge\n",
        "# write a function that gives us the number of occurences of an item in a list"
      ],
      "metadata": {
        "id": "2NzvxOL4lWsb"
      },
      "execution_count": null,
      "outputs": []
    },
    {
      "cell_type": "code",
      "source": [
        "# Challenge\n",
        "# write a function that gives us the frequency distribution of items in a list\n",
        "# a function takes arguments, parameters, and the return values\n",
        "\n",
        "def frequency_distribution(items):\n",
        "  freq_list = {}\n",
        "  for item in items:\n",
        "    if item in freq_list:\n",
        "      freq_list[item] += 1\n",
        "    else:\n",
        "      freq_list[item] = 1\n",
        "  return freq_list"
      ],
      "metadata": {
        "id": "QETR42o5ldU3"
      },
      "execution_count": 1,
      "outputs": []
    },
    {
      "cell_type": "code",
      "source": [
        "# creating a list\n",
        "my_list = [\n",
        "    \"male\",\"male\",\"male\",\"male\",\"male\",\"male\",\"male\",\n",
        "    \"female\",\"female\",\"female\",\"female\",\"female\"\n",
        "]\n",
        "\n",
        "# calling the function\n",
        "print(frequency_distribution(my_list))"
      ],
      "metadata": {
        "colab": {
          "base_uri": "https://localhost:8080/"
        },
        "id": "JUrkNhOPbXc9",
        "outputId": "70fc8e9b-5db0-48ca-8922-7903507a5564"
      },
      "execution_count": 2,
      "outputs": [
        {
          "output_type": "stream",
          "name": "stdout",
          "text": [
            "{'male': 7, 'female': 5}\n"
          ]
        }
      ]
    },
    {
      "cell_type": "code",
      "source": [
        "# create a function by support from a library\n",
        "\n",
        "from collections import Counter\n",
        "\n",
        "def frequency_distribution2(items):\n",
        "  return (dict(Counter(items)))"
      ],
      "metadata": {
        "id": "kyw3709-cOkI"
      },
      "execution_count": 3,
      "outputs": []
    },
    {
      "cell_type": "code",
      "source": [
        "frequency_distribution2(my_list)"
      ],
      "metadata": {
        "colab": {
          "base_uri": "https://localhost:8080/"
        },
        "id": "EE4QLrNQdfk3",
        "outputId": "356f41b0-78cb-424d-93c3-ae4adb7bfe52"
      },
      "execution_count": 4,
      "outputs": [
        {
          "output_type": "execute_result",
          "data": {
            "text/plain": [
              "{'male': 7, 'female': 5}"
            ]
          },
          "metadata": {},
          "execution_count": 4
        }
      ]
    },
    {
      "cell_type": "code",
      "source": [
        "# a function that visualizes data in a plot\n",
        "\n",
        "def simple_plot (x, y, title = \"Plot of X and Y\"):\n",
        "  import matplotlib.pyplot as plt\n",
        "  plt.plot(x,y)\n",
        "  plt.title(title)\n",
        "  plt.xlabel(\"X\")\n",
        "  plt.ylabel(\"Y\")\n",
        "  plt.show()"
      ],
      "metadata": {
        "id": "UsGgCu36eH-Y"
      },
      "execution_count": 5,
      "outputs": []
    },
    {
      "cell_type": "code",
      "source": [
        "x = [1,2,3,4,5,6,7,8,9,10,11]\n",
        "y = [1,4,9,16,25,36,49,64,81,100,121]\n",
        "\n",
        "simple_plot (x,y)"
      ],
      "metadata": {
        "colab": {
          "base_uri": "https://localhost:8080/",
          "height": 472
        },
        "id": "qWu-niE1fLWw",
        "outputId": "955b6e94-3562-41ab-dcbb-ff88cfedd506"
      },
      "execution_count": 12,
      "outputs": [
        {
          "output_type": "display_data",
          "data": {
            "text/plain": [
              "<Figure size 640x480 with 1 Axes>"
            ],
            "image/png": "[encoded data removed]"
          },
          "metadata": {}
        }
      ]
    },
    {
      "cell_type": "code",
      "source": [
        "# Challenge\n",
        "# creating x and y\n",
        "\n",
        "x1 = [1,1,2,3,5,8,13,21,34,55,89]\n",
        "\n",
        "#y =\n",
        "\n",
        "# simple plot\n",
        "simple_plot(x,x1,title=\"X and X1\")"
      ],
      "metadata": {
        "colab": {
          "base_uri": "https://localhost:8080/",
          "height": 472
        },
        "id": "uvs7G5-LgTkU",
        "outputId": "ad8d3791-eb42-4e33-cbe3-b0944efd4798"
      },
      "execution_count": 14,
      "outputs": [
        {
          "output_type": "display_data",
          "data": {
            "text/plain": [
              "<Figure size 640x480 with 1 Axes>"
            ],
            "image/png": "[encoded data removed]"
          },
          "metadata": {}
        }
      ]
    },
    {
      "cell_type": "code",
      "source": [],
      "metadata": {
        "id": "FKW50l9Ymf56"
      },
      "execution_count": null,
      "outputs": []
    }
  ]
}